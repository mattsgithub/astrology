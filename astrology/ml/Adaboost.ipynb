{
 "cells": [
  {
   "cell_type": "markdown",
   "metadata": {},
   "source": [
    "Provide a series of articles on boosting.\n",
    "\n",
    "- Adaboost\n",
    "- Gradient boosting\n",
    "- XGBoost\n",
    "- LightBoost\n",
    "- CatBoost\n",
    "\n",
    "Will provide derivations and code. In the form of video and article.  "
   ]
  },
  {
   "cell_type": "markdown",
   "metadata": {},
   "source": [
    "# Boosting\n",
    "\n",
    "Boosting is a machine learning technique that strings together many models in a sequence where each model corrects mistakes by the previous model.\n",
    "\n",
    "Suppose you are a generalist. You take an exam that covers many topics: history, mathematics, sociology, etc. but you don't get all questions correct. For the questions you got wrong, you enlist the help of another person. They also will not be able to correct all your mistakes. So we repeat.\n",
    "\n",
    "This is the core idea of boosting. Each model is a function of all the previous models. Each model focuses on the mistakes of the previous model.\n",
    "\n",
    "Boosting is doing something quite different than you are probably used to in machine learning. A common paradigm is that we are trying to estimate parameters given a model type, data, and a loss function. But boosting is doing something a bit different.\n",
    "\n",
    "Instead of optimizing in parameter space, it's optimizing in functional space! If this sounds strange, the idea will cement as we proceed.\n",
    "\n",
    "Let's start with the first (unless there are ones before this I am not aware of; if you know of such, please leave a comment) boosting algorithm: Adaboost."
   ]
  },
  {
   "cell_type": "markdown",
   "metadata": {},
   "source": [
    "# Adaboost\n",
    "\n",
    "The invention of Adaboost did not develop the way it's presented here. I found this approach via EOS book. The benefit of this approach, is that it allows us to view it as a special case of other techniques we know.\n",
    "\n",
    "We desire two constraints:\n",
    "\n",
    "1. Model the true (unknown) function as an additive model:\n",
    "\n",
    "    $f(y|x) \\approx \\sum_i \\beta_i h(x|\\theta_i)$\n",
    "    \n",
    "    Here $h(x|\\theta_i)$ is some model type (any ML model you like: decision tree, naive bayes, etc.)\n",
    "\n",
    "2. Optimize using this loss function:\n",
    "\n",
    "    $l(y, \\hat{y}) = e^{-y\\hat{y}}$\n",
    "    \n",
    "\n",
    "This loss function may seem weird. Why this one? Well, Adaboost was not orginially derived this way. But after the fact, it turned out the algorithm is minimizing using the exponential loss function (even if the original authors were not aware of that at the time).\n",
    "\n",
    "Directly figuring out (1) is hard. Instead a _suboptimial_ solution is taken known as stagewise modeling. We greedily take the optimal approach one term at a time. That is, for each stage, we approximate our prediction function as:\n",
    "\n",
    "$\\hat{y} \\approx \\hat{y}_{m - 1} + \\beta_m h(x| \\theta_m)$"
   ]
  },
  {
   "cell_type": "markdown",
   "metadata": {},
   "source": [
    "The cost function over the dataset is:\n",
    "    \n",
    "$J = \\sum_i^N l(y_i, \\hat{y}_i)$ \n",
    "\n",
    "$ = \\sum_i^N e^{-y_i \\hat{y}_i}$\n",
    "\n",
    "$ = \\sum_i^N e^{-y_i (\\hat{y}_{m - 1} + \\beta_m h(x_i | \\theta_m))}$\n",
    "\n",
    "$ = \\sum_i^N e^{-y_i \\hat{y}_{m - 1}} e^{-y_i \\beta_m h(x_i | \\theta_m)} $\n",
    "\n",
    "Let's pause for a moment. What are we trying to do? We are trying to find the lowest value of $J$ possible. But what can we control? We can control:\n",
    "\n",
    "- Model type [Do we use a decision tree or logistic regression for $\\hat{y}$ ?]\n",
    "- $\\theta_m$ [The best set of model parameters that minimizes J]\n",
    "- $\\beta_m$ [The best beta that minimizes J]\n",
    "\n",
    "First of all, we assume we use the same model structure (although in practice, no reason you couldn't search over model types). Let's fix $\\beta_m$ for now and figure how we should pick $\\theta_m$.\n",
    "\n",
    "\n",
    "We can also clean up our notation a bit.\n",
    "\n",
    "$ = \\sum_i^N e^{-y_i \\hat{y}_{m - 1}} e^{-y_i \\beta_m h(x_i | \\theta_m)} $\n",
    "\n",
    "$ = \\sum_i^N w_i e^{-y_i \\beta_m h(x_i | \\theta_m)} $\n",
    "\n",
    "Where\n",
    "\n",
    "$w_i = e^{-y_i \\hat{y}_{m - 1}}$\n",
    "\n",
    "We do this to avoid being overwhelmed with having to write a lot down. It also helps us focus on the things we actually have control over."
   ]
  },
  {
   "cell_type": "markdown",
   "metadata": {},
   "source": [
    "$ J = \\sum_i^N w_i e^{-y_i \\beta_m h(x_i | \\theta_m)} $\n",
    "\n",
    "If we assume our problem is a binary classfication problem (and that labels are -1 and +1). We get:\n",
    "\n",
    "$ J = \\sum_i^{N_{+}} w_i e^{-\\beta_m h(x_i | \\theta_m)} + \\sum_j^{N_{-}} w_j e^{\\beta_m h(x_j | \\theta_m)}$\n",
    "\n",
    "Note that $e^x > 0$ if we assume $\\beta_m > 0$ then we just need to make both terms small as possible. The 2nd term of \n",
    "\n",
    "$\\sum_j^{N_{-}} w_j e^{\\beta_m h(x_j | \\theta_m)}$\n",
    "\n",
    "We just to push $h(x_j | \\theta_m)$ as small as possible. That is, bring it all the way to -1.\n",
    "\n",
    "However, our first term:\n",
    "\n",
    "$\\sum_i^{N_{+}} w_i e^{-\\beta_m h(x_i | \\theta_m)}$\n",
    "\n",
    "If we actually want to make $h(x_i | \\theta_m)$ as large as possible to minimize the overal term. This tells us that if $\\beta_m > 0$, we should bring our prediction terms as close as possible to the true labels. A way to do this to minimize the error rate."
   ]
  },
  {
   "cell_type": "markdown",
   "metadata": {},
   "source": [
    "Now, what about $\\beta_m$? Well:\n",
    "\n",
    "$J = \\sum_i w_i e^{-\\beta_m y_i h(x_i | theta_m)}$\n",
    "\n",
    "If our output is -1 or +1 from $h(x_i | theta_m)$ we can decompose our cost function into two parts: correct classifictions and misclassifictions. Let's use $\\epsilon_i$ to be 0 or 1 depending on if we misclassify or not the ith example:\n",
    "\n",
    "$J = \\sum_i w_i ((1 - \\epsilon_i) e^{-\\beta_m} + \\epsilon_i e^{\\beta_m})$\n",
    "\n",
    "We take the partial derivative and set to 0:\n",
    "\n",
    "$\\frac{\\partial J}{\\partial \\beta_m} = \\sum_i w_i (-(1 - \\epsilon_i) e^{-\\beta_m} + \\epsilon_i e^{\\beta_m}) = 0$\n",
    "\n",
    "$\\frac{\\partial J}{\\partial \\beta_m} = \\sum_i w_i (\\epsilon_i e^{-\\beta_m} - e^{-\\beta_m} + \\epsilon_i e^{\\beta_m}) = 0$\n",
    "\n",
    "$\\frac{\\partial J}{\\partial \\beta_m} = \\sum_i w_i (\\epsilon_i - 1 + \\epsilon_i e^{2\\beta_m}) = 0$\n",
    "\n",
    "$e^{2\\beta_m} \\sum_i w_i \\epsilon_i  = \\sum_i w_i - \\sum_i w_i \\epsilon_i$\n",
    "\n",
    "$e^{2\\beta_m}  = \\frac{\\sum_i w_i - \\sum_i w_i \\epsilon_i} {\\sum_i w_i \\epsilon_i}$\n",
    "\n",
    "$\\beta_m  = \\frac{1}{2} log (\\frac{\\sum_i w_i - \\sum_i w_i \\epsilon_i} {\\sum_i w_i \\epsilon_i})$"
   ]
  },
  {
   "cell_type": "markdown",
   "metadata": {},
   "source": [
    "We can clean things up a bit. We can divide inside the log term the sum of weights, this yields:\n",
    "\n",
    "$\\beta_m  = \\frac{1}{2} log (\\frac{1 - \\epsilon_m} {\\epsilon_m})$\n",
    "\n",
    "where \n",
    "\n",
    "$\\epsilon_m = \\frac{\\sum_i w_i \\epsilon_i}{\\sum_i w_i}$\n",
    "\n",
    "and of course:\n",
    "\n",
    "$w_i = e^{-y_i \\hat{y}_{m - 1}}$\n",
    "\n",
    "and:\n",
    "\n",
    "$\\hat{y}_m = \\hat{y}_{m - 1} + \\beta_m h(x| \\theta_m)$"
   ]
  },
  {
   "cell_type": "markdown",
   "metadata": {},
   "source": [
    "Let's list out the algorithm now:\n",
    "\n",
    "First, let's use our initial predictor as the prior.\n",
    "\n",
    "$\\hat{y}_1 = 0 + \\beta_0 h(x| \\theta_1)$"
   ]
  },
  {
   "cell_type": "code",
   "execution_count": 229,
   "metadata": {},
   "outputs": [],
   "source": [
    "import numpy as np\n",
    "import pandas as pd\n",
    "from sklearn.datasets import load_breast_cancer\n",
    "from sklearn.model_selection import train_test_split\n",
    "from sklearn.tree import DecisionTreeClassifier\n",
    "from sklearn.ensemble import AdaBoostClassifier\n",
    "import matplotlib.pyplot as plt"
   ]
  },
  {
   "cell_type": "code",
   "execution_count": 219,
   "metadata": {},
   "outputs": [],
   "source": [
    "# The dataset we will practice on\n",
    "dataset = load_breast_cancer()\n",
    "X = pd.DataFrame(dataset.data, columns=dataset.feature_names)\n",
    "y = dataset.target\n",
    "\n",
    "X_train, X_test, y_train, y_test = train_test_split(X, y, test_size=0.1, random_state=42)"
   ]
  },
  {
   "cell_type": "code",
   "execution_count": 217,
   "metadata": {},
   "outputs": [
    {
     "data": {
      "text/plain": [
       "DecisionTreeClassifier()"
      ]
     },
     "execution_count": 217,
     "metadata": {},
     "output_type": "execute_result"
    }
   ],
   "source": [
    "model = DecisionTreeClassifier()\n",
    "model.fit(X_train, y_train)"
   ]
  },
  {
   "cell_type": "code",
   "execution_count": null,
   "metadata": {},
   "outputs": [],
   "source": [
    "class BinaryAdaboost:\n",
    "    def __init__(self, n_rounds):\n",
    "        self.n_rounds = n_rounds\n",
    "        \n",
    "    def predict(self, X):\n",
    "        y_preds = np.array(list(zip(*[m.predict(X_test) for m in m.models])))\n",
    "        y_preds = y_preds * self.model_weights\n",
    "        y_preds = y_preds.sum(axis=1)\n",
    "        y_preds = np.where(y_preds < 0, 0, 1)\n",
    "        return y_preds\n",
    "    \n",
    "    def fit(self, X, y):\n",
    "        \"\"\"Assumes labels are provided in 0 and 1 format\n",
    "        \"\"\"\n",
    "        # Convert to format our derivation\n",
    "        # is based on\n",
    "        y = np.where(y == 0, -1, 1)\n",
    "        \n",
    "        # Sample weight distribution\n",
    "        m = X.shape[0]\n",
    "        \n",
    "        # Uniform distribution\n",
    "        w = np.array([1. / m] * m)\n",
    "        \n",
    "        # Learned models\n",
    "        self.models = []\n",
    "        \n",
    "        # Model weights\n",
    "        self.model_weights = []\n",
    "        \n",
    "        # Record sample weights over time\n",
    "        self.sample_weights = []\n",
    "        \n",
    "        for _ in range(self.n_rounds):\n",
    "            \n",
    "            # Fit a decision tree to residult\n",
    "            model = DecisionTreeClassifier(max_depth=2)\n",
    "            \n",
    "            # Previous prediction \n",
    "            model.fit(X, y)\n",
    "            y_hat = model.predict(X)\n",
    "            self.models.append(model)\n",
    "            \n",
    "            e = (y != y_hat).astype(int)\n",
    "\n",
    "            # Convert 0 to -1\n",
    "            #y_hat = np.where(y_hat == 0, -1, 1)\n",
    "            \n",
    "            eps = w.dot(e)\n",
    "            alpha = 0.5 * np.log((1 - eps) / eps)\n",
    "            self.model_weights.append(alpha)\n",
    "            \n",
    "            # Update sample weight distribution\n",
    "            w = (w * np.exp(-alpha * y * y_hat))\n",
    "            \n",
    "            # Normalize\n",
    "            w = w / w.sum()\n",
    "            \n",
    "            self.sample_weights.append(w)"
   ]
  },
  {
   "cell_type": "code",
   "execution_count": 221,
   "metadata": {},
   "outputs": [],
   "source": [
    "class BinaryAdaboost:\n",
    "    def __init__(self, n_rounds):\n",
    "        self.n_rounds = n_rounds\n",
    "        \n",
    "    def predict(self, X):\n",
    "        y_preds = np.array(list(zip(*[m.predict(X_test) for m in m.models])))\n",
    "        y_preds = y_preds * self.model_weights\n",
    "        y_preds = y_preds.sum(axis=1)\n",
    "        y_preds = np.where(y_preds < 0, 0, 1)\n",
    "        return y_preds\n",
    "    \n",
    "    def fit(self, X, y):\n",
    "        \"\"\"Assumes labels are provided in 0 and 1 format\n",
    "        \"\"\"\n",
    "        # Convert to format our derivation\n",
    "        # is based on\n",
    "        y = np.where(y == 0, -1, 1)\n",
    "        \n",
    "        # Sample weight distribution\n",
    "        m = X.shape[0]\n",
    "        \n",
    "        # Uniform distribution\n",
    "        w = np.array([1. / m] * m)\n",
    "        \n",
    "        # Learned models\n",
    "        self.models = []\n",
    "        \n",
    "        # Model weights\n",
    "        self.model_weights = []\n",
    "        \n",
    "        # Record sample weights over time\n",
    "        self.sample_weights = []\n",
    "        \n",
    "        for _ in range(self.n_rounds):\n",
    "            \n",
    "            model = DecisionTreeClassifier(max_depth=2)\n",
    "            model.fit(X, y, sample_weight=w)\n",
    "            y_hat = model.predict(X)\n",
    "            self.models.append(model)\n",
    "            \n",
    "            e = (y != y_hat).astype(int)\n",
    "\n",
    "            # Convert 0 to -1\n",
    "            #y_hat = np.where(y_hat == 0, -1, 1)\n",
    "            \n",
    "            eps = w.dot(e)\n",
    "            alpha = 0.5 * np.log((1 - eps) / eps)\n",
    "            self.model_weights.append(alpha)\n",
    "            \n",
    "            # Update sample weight distribution\n",
    "            w = (w * np.exp(-alpha * y * y_hat))\n",
    "            \n",
    "            # Normalize\n",
    "            w = w / w.sum()\n",
    "            \n",
    "            self.sample_weights.append(w)"
   ]
  },
  {
   "cell_type": "code",
   "execution_count": 222,
   "metadata": {},
   "outputs": [],
   "source": [
    "n_rounds = list(range(1, 30))"
   ]
  },
  {
   "cell_type": "code",
   "execution_count": 223,
   "metadata": {},
   "outputs": [],
   "source": [
    "custom_error_rates = []\n",
    "for n in n_rounds:\n",
    "    m = Adaboost(n_rounds=n)\n",
    "    m.fit(X_train, y_train)\n",
    "    error_rate = (m.predict(X_test) != y_test).mean()\n",
    "    custom_error_rates.append(error_rate)"
   ]
  },
  {
   "cell_type": "code",
   "execution_count": 224,
   "metadata": {},
   "outputs": [
    {
     "data": {
      "image/png": "[encoded data removed]",
      "text/plain": [
       "<Figure size 432x288 with 1 Axes>"
      ]
     },
     "metadata": {
      "needs_background": "light"
     },
     "output_type": "display_data"
    }
   ],
   "source": [
    "plt.scatter(n_rounds, np.array(custom_error_rates) * 100., color='red', alpha=.4)\n",
    "plt.xlabel(\"Number of Rounds\")\n",
    "plt.ylabel(\"Error Rate (%)\")\n",
    "plt.show()"
   ]
  },
  {
   "cell_type": "code",
   "execution_count": 225,
   "metadata": {},
   "outputs": [
    {
     "data": {
      "text/plain": [
       "(29, 512)"
      ]
     },
     "execution_count": 225,
     "metadata": {},
     "output_type": "execute_result"
    }
   ],
   "source": [
    "X = np.array(m.sample_weights)\n",
    "X.shape"
   ]
  },
  {
   "cell_type": "code",
   "execution_count": 226,
   "metadata": {},
   "outputs": [
    {
     "data": {
      "image/png": "[encoded data removed]",
      "text/plain": [
       "<Figure size 432x288 with 1 Axes>"
      ]
     },
     "metadata": {
      "needs_background": "light"
     },
     "output_type": "display_data"
    }
   ],
   "source": [
    "for i in range(10):\n",
    "    plt.plot(n_rounds, X[:,i], color='gray', alpha=.4, marker='o')\n",
    "plt.show()"
   ]
  },
  {
   "cell_type": "code",
   "execution_count": 227,
   "metadata": {},
   "outputs": [],
   "source": [
    "error_rates = []\n",
    "for n in n_rounds:\n",
    "    m = AdaBoostClassifier(n_estimators=n, base_estimator=DecisionTreeClassifier(max_depth=2))\n",
    "    m.fit(X_train, y_train)\n",
    "    error_rate = (m.predict(X_test) != y_test).mean()\n",
    "    error_rates.append(error_rate)"
   ]
  },
  {
   "cell_type": "code",
   "execution_count": 228,
   "metadata": {},
   "outputs": [
    {
     "data": {
      "image/png": "[encoded data removed]",
      "text/plain": [
       "<Figure size 432x288 with 1 Axes>"
      ]
     },
     "metadata": {
      "needs_background": "light"
     },
     "output_type": "display_data"
    }
   ],
   "source": [
    "plt.scatter(n_rounds, np.array(custom_error_rates) * 100., color='red', alpha=.4)\n",
    "plt.scatter(n_rounds, np.array(error_rates) * 100., color='gray', alpha=.4)\n",
    "plt.xlabel(\"Number of Rounds\")\n",
    "plt.ylabel(\"Error Rate (%)\")\n",
    "plt.show()"
   ]
  },
  {
   "cell_type": "markdown",
   "metadata": {},
   "source": [
    "Some links I found helpful\n",
    "\n",
    "https://www.youtube.com/watch?v=2xudPOBz-vs&t=822s\n",
    "\n",
    "https://mlcourse.ai/articles/topic10-boosting/"
   ]
  }
 ],
 "metadata": {
  "kernelspec": {
   "display_name": "Python 3 (ipykernel)",
   "language": "python",
   "name": "python3"
  },
  "language_info": {
   "codemirror_mode": {
    "name": "ipython",
    "version": 3
   },
   "file_extension": ".py",
   "mimetype": "text/x-python",
   "name": "python",
   "nbconvert_exporter": "python",
   "pygments_lexer": "ipython3",
   "version": "3.9.5"
  }
 },
 "nbformat": 4,
 "nbformat_minor": 4
}
