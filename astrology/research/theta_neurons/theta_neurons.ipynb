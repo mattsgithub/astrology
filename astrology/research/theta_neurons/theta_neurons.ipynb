{
 "cells": [
  {
   "cell_type": "markdown",
   "metadata": {},
   "source": [
    "* How were Lyapunov exponents calculated for PSR state?\n",
    "* What type of limit cycle attracts from inside but repels from outside?"
   ]
  },
  {
   "cell_type": "code",
   "execution_count": 2,
   "metadata": {
    "collapsed": false
   },
   "outputs": [],
   "source": [
    "import numpy as np\n",
    "from scipy import integrate\n",
    "from matplotlib import pyplot as plt\n",
    "%matplotlib inline"
   ]
  },
  {
   "cell_type": "code",
   "execution_count": 3,
   "metadata": {
    "collapsed": false
   },
   "outputs": [],
   "source": [
    "class Parameters(object):\n",
    "    def __init__(self, **kwargs):\n",
    "        self.eta_center = kwargs['eta_center']\n",
    "        self.eta_spread = kwargs['eta_spread']\n",
    "        self.k_center = kwargs['k_center']\n",
    "        self.k_spread = kwargs['k_spread']\n",
    "\n",
    "# Defines the three parameters sets from the paper Luke et al. 2013\n",
    "psr = Parameters(eta_center = -0.2,  eta_spread = 0.1, k_center = -2.0, k_spread = 0.0)\n",
    "pss = Parameters(eta_center = 0.2,   eta_spread = 0.1, k_center = 2.0,  k_spread = 0.0)\n",
    "cpw = Parameters(eta_center = 10.75, eta_spread = 0.5, k_center = -9.0, k_spread = 0.0)"
   ]
  },
  {
   "cell_type": "code",
   "execution_count": 4,
   "metadata": {
    "collapsed": false
   },
   "outputs": [],
   "source": [
    "def get_cauchy_distribution(center, spread, N):\n",
    "    return center + spread * np.tan(np.pi * (np.random.rand(N) - 0.5))\n",
    "\n",
    "def run_integration(f, x0, t0, t1, dt):\n",
    "\n",
    "    r = integrate.ode(f).set_integrator('dopri5')\n",
    "    r.set_initial_value(x0, t0)\n",
    "    \n",
    "    t = []\n",
    "    y = []\n",
    "    \n",
    "    while r.successful() and r.t < t1:\n",
    "        r.integrate(r.t+dt)\n",
    "        t.append(r.t)\n",
    "        y.append(r.y)\n",
    "    return t,y"
   ]
  },
  {
   "cell_type": "markdown",
   "metadata": {},
   "source": [
    "There are two models to consider. The first is discrete, the other considers the case where $N = \\infty$. Amazingly, the dynamics can be reduced to a two dimensional system. This implies chaos is not possible in the infinite chaos. The OA manifold is the name of this lower dimesional system."
   ]
  },
  {
   "cell_type": "code",
   "execution_count": 5,
   "metadata": {
    "collapsed": false
   },
   "outputs": [],
   "source": [
    "class Model(object):\n",
    "    def __init__(self):\n",
    "        self.x = []\n",
    "        self.y = []\n",
    "        self.t = []\n",
    "\n",
    "class DiscreteModel(Model):\n",
    "    def __init__(self, params, N, **kwargs):\n",
    "        self._params = params\n",
    "        self._N = N\n",
    "        self._is_autapse = kwargs.get(\"is_autapse\", True)\n",
    "        \n",
    "        if kwargs.get(\"theta0\") != None:\n",
    "            self._theta0 = kwargs.get(\"theta0\")\n",
    "        else:\n",
    "            self._theta0 = 2.0 * np.pi * np.random.rand(N)\n",
    "            \n",
    "        if kwargs.get(\"eta\") != None:\n",
    "            self.eta = kwargs.get(\"eta\")\n",
    "        else:\n",
    "            self.eta = get_cauchy_distribution(params.eta_center, params.eta_spread, N)\n",
    "        \n",
    "        self.k = get_cauchy_distribution(params.k_center, params.k_spread, N)\n",
    "        \n",
    "        # If present, then with probability p, set some of the synaptic strengths to 0\n",
    "        if kwargs.get(\"p\") != None:\n",
    "            self._k = [0.0 if np.random.rand() < kwargs.get(\"p\") else self._k[i] for i in range(N)]\n",
    "        \n",
    "        self._an = 2.0/3.0\n",
    "\n",
    "    def f(self, t, theta):\n",
    "        all_pulses = (1.0 - np.cos(theta))**2\n",
    "        if self._is_autapse:\n",
    "            Isyn = np.sum(all_pulses)\n",
    "        else:\n",
    "            Isyn = np.sum(all_pulses) * np.ones(self._N) - all_pulses\n",
    "        return (1.0 - np.cos(theta)) + (1.0 + np.cos(theta))*(self.eta + self._an * self.k * Isyn / self._N)\n",
    "    \n",
    "    def run(self, t1, dt):\n",
    "        self.x = []\n",
    "        self.y = []\n",
    "        self.t,data = run_integration(self.f, self._theta0, 0.0, t1, dt)\n",
    "        for row in data:\n",
    "            self.x.append(np.sum(np.cos(row))/self._N)\n",
    "            self.y.append(np.sum(np.sin(row))/self._N)\n",
    "\n",
    "class ReducedModel(Model):\n",
    "    def __init__(self, params):\n",
    "        self._x0 = 0.0\n",
    "        self._y0 = 0.0\n",
    "        self._params = params\n",
    "        self._A0 = 3.0/2.0\n",
    "        self._A1 = -1.0\n",
    "        self._A2 = 1.0/4.0\n",
    "        self._an = 2.0/3.0\n",
    "        \n",
    "    def f(self, t, r):\n",
    "        x = r[0]\n",
    "        y = r[1]\n",
    "        H = self._an * (self._A0 + self._A1 * 2.0*x + self._A2 * 2.0*(x**2 - y**2))\n",
    "        \n",
    "        eta0    = self._params.eta_center\n",
    "        k_delta = self._params.k_spread\n",
    "        eta_delta = self._params.eta_spread\n",
    "        k0 = self._params.k_center\n",
    "        \n",
    "        delta = (eta_delta + k_delta * H)\n",
    "        Fx = (x - 1.0)*y - 0.5 * delta * ((x+1)**2 - y**2) - (x+1)*y*(eta0 + k0*H)\n",
    "        Fy = -0.5*((x-1)**2 - y**2) - (x+1)*y*delta + 0.5*((x+1)**2 - y**2)*(eta0 + self._params.k_center*H)\n",
    "        return [Fx, Fy]\n",
    "    \n",
    "    def run(self, t1, dt):\n",
    "        self.x = []\n",
    "        self.y = []\n",
    "        self.t,data = run_integration(self.f, [self._x0, self._y0], 0.0, t1, dt)\n",
    "        for row in data:\n",
    "            self.x.append(row[0])\n",
    "            self.y.append(row[1])"
   ]
  },
  {
   "cell_type": "markdown",
   "metadata": {},
   "source": [
    "<br/><br/><br/><br/><br/><br/><br/><br/><br/>\n",
    "# CPW: Continous Periodic Wave"
   ]
  },
  {
   "cell_type": "code",
   "execution_count": 98,
   "metadata": {
    "collapsed": false
   },
   "outputs": [],
   "source": [
    "\"\"\"\n",
    "How many neurons does it take to maintain limit cycle?\n",
    "What is the probability of equilibrium as a function of N?\n",
    "\n",
    "\n",
    "N = 100\n",
    "The discrete network sees to always approach equilibrium at:\n",
    "(-0.75057739759,-0.616625272657)\n",
    "(-0.749313726386,-0.593987397011)\n",
    "\n",
    "\"\"\"\n",
    "N_cpw = 1\n",
    "dt = 0.01\n",
    "t = 30.0\n",
    "#print 2.0 * np.pi * np.random.rand(N_cpw)\n",
    "\n",
    "rm_cpw = ReducedModel(cpw)\n",
    "dm_cpw = DiscreteModel(cpw,N_cpw,is_autapse=True,theta0=[0.0],eta=[1.5])\n",
    "rm_cpw.run(t,dt)\n",
    "dm_cpw.run(t,dt)"
   ]
  },
  {
   "cell_type": "markdown",
   "metadata": {},
   "source": [
    "Now we look at the dynamics of one spiking neuron\n",
    "\n",
    "What do spikes look like over time?\n",
    "TODO:\n",
    "Plots that show different neurons spiking over time\n",
    "\n",
    "Plot that shows phase of neurons over time"
   ]
  },
  {
   "cell_type": "code",
   "execution_count": 99,
   "metadata": {
    "collapsed": false
   },
   "outputs": [
    {
     "data": {
      "text/plain": [
       "<matplotlib.legend.Legend at 0x110c0e110>"
      ]
     },
     "execution_count": 99,
     "metadata": {},
     "output_type": "execute_result"
    },
    {
     "data": {
      "image/png": "[encoded data removed]",
      "text/plain": [
       "<matplotlib.figure.Figure at 0x10fc92bd0>"
      ]
     },
     "metadata": {},
     "output_type": "display_data"
    }
   ],
   "source": [
    "angles = []\n",
    "for i in range(len(dm_cpw.x)):\n",
    "    y = dm_cpw.y[i]\n",
    "    x = dm_cpw.x[i]\n",
    "    angle = np.arctan(np.abs(y/x))\n",
    "    \n",
    "    # Upper left quadrant\n",
    "    if y > 0 and x < 0:\n",
    "        angle += np.pi / 2.0\n",
    "    elif y < 0 and x < 0:\n",
    "        # Bottom left quadrant\n",
    "        angle += np.pi\n",
    "    elif y < 0 and x > 0:\n",
    "        angle += np.pi * 3.0/2.0\n",
    "    angles.append(angle)\n",
    "    \n",
    "spikes = [0]\n",
    "for i in range(1, len(angles)):\n",
    "    if angles[i-1] < np.pi and angles[i] > np.pi:\n",
    "        spikes.append(1)\n",
    "    elif angles[i-1] > np.pi and angles[i] < np.pi:\n",
    "        spikes.append(1)\n",
    "    else:\n",
    "        spikes.append(0)\n",
    "plt.title(\"Spiking neuron CPW \\n N ={0}, $\\eta_0$ = {1}, $\\Delta$ = {2}, $k_0$ = {3}, $\\Delta_k$ = {4}\".format(N_cpw, cpw.eta_center, cpw.eta_spread, cpw.k_center, cpw.k_spread))\n",
    "plt.scatter(dm_cpw.t,spikes,color=\"gray\", label=\"Reduced\", marker='o')\n",
    "plt.ylim([0.9, 1.1])\n",
    "plt.xlim(0.0)\n",
    "plt.legend()"
   ]
  },
  {
   "cell_type": "code",
   "execution_count": 8,
   "metadata": {
    "collapsed": false
   },
   "outputs": [
    {
     "name": "stdout",
     "output_type": "stream",
     "text": [
      "(-0.95572908005,0.294248068043)\n"
     ]
    },
    {
     "data": {
      "text/plain": [
       "<matplotlib.legend.Legend at 0x10b93ca90>"
      ]
     },
     "execution_count": 8,
     "metadata": {},
     "output_type": "execute_result"
    },
    {
     "data": {
      "image/png": "[encoded data removed]",
      "text/plain": [
       "<matplotlib.figure.Figure at 0x10b68e690>"
      ]
     },
     "metadata": {},
     "output_type": "display_data"
    }
   ],
   "source": [
    "print '({0},{1})'.format(dm_cpw.x[-1], dm_cpw.y[-1])\n",
    "\n",
    "plt.title(\"CPW \\n N ={0}, $\\eta_0$ = {1}, $\\Delta$ = {2}, $k_0$ = {3}, $\\Delta_k$ = {4}\".format(N_cpw, cpw.eta_center, cpw.eta_spread, cpw.k_center, cpw.k_spread))\n",
    "plt.xlim([-1.0,1.0])\n",
    "plt.ylim([-1.0,1.0])\n",
    "\n",
    "plt.plot(rm_cpw.x[-300:],rm_cpw.y[-300:],color=\"gray\", label=\"Reduced\")\n",
    "plt.plot(dm_cpw.x[:],dm_cpw.y[:],color=\"red\", label=\"Discrete\",marker='x')\n",
    "plt.legend()"
   ]
  },
  {
   "cell_type": "code",
   "execution_count": 9,
   "metadata": {
    "collapsed": false
   },
   "outputs": [
    {
     "data": {
      "text/plain": [
       "<matplotlib.legend.Legend at 0x108227550>"
      ]
     },
     "execution_count": 9,
     "metadata": {},
     "output_type": "execute_result"
    },
    {
     "data": {
      "image/png": "[encoded data removed]",
      "text/plain": [
       "<matplotlib.figure.Figure at 0x10b688690>"
      ]
     },
     "metadata": {},
     "output_type": "display_data"
    }
   ],
   "source": [
    "plt.title(\"Reduced CPW \\n N ={0}, $\\eta_0$ = {1}, $\\Delta$ = {2}, $k_0$ = {3}, $\\Delta_k$ = {4}\".format(N_cpw, cpw.eta_center, cpw.eta_spread, cpw.k_center, cpw.k_spread))\n",
    "plt.plot(rm_cpw.t,rm_cpw.x,color=\"black\",label=\"Re[z]\")\n",
    "plt.plot(rm_cpw.t,rm_cpw.y,color=\"gray\",label=\"Im[z]\")\n",
    "plt.legend()"
   ]
  },
  {
   "cell_type": "code",
   "execution_count": 10,
   "metadata": {
    "collapsed": false
   },
   "outputs": [
    {
     "data": {
      "text/plain": [
       "<matplotlib.legend.Legend at 0x10ca08d10>"
      ]
     },
     "execution_count": 10,
     "metadata": {},
     "output_type": "execute_result"
    },
    {
     "data": {
      "image/png": "[encoded data removed]",
      "text/plain": [
       "<matplotlib.figure.Figure at 0x10828ef50>"
      ]
     },
     "metadata": {},
     "output_type": "display_data"
    }
   ],
   "source": [
    "plt.title(\"Discrete CPW \\n N ={0}, $\\eta_0$ = {1}, $\\Delta$ = {2}, $k_0$ = {3}, $\\Delta_k$ = {4}\".format(N_cpw, cpw.eta_center, cpw.eta_spread, cpw.k_center, cpw.k_spread))\n",
    "plt.plot(dm_cpw.t,dm_cpw.x,color=\"darkred\",label=\"Re[z]\")\n",
    "plt.plot(dm_cpw.t,dm_cpw.y,color=\"red\",label=\"Im[z]\")\n",
    "plt.legend()"
   ]
  },
  {
   "cell_type": "markdown",
   "metadata": {},
   "source": [
    "<br/><br/><br/><br/><br/><br/><br/><br/><br/>\n",
    "# PSS: Partially Sychronous State"
   ]
  },
  {
   "cell_type": "code",
   "execution_count": 11,
   "metadata": {
    "collapsed": false
   },
   "outputs": [
    {
     "ename": "TypeError",
     "evalue": "__init__() takes exactly 3 arguments (4 given)",
     "output_type": "error",
     "traceback": [
      "\u001b[0;31m---------------------------------------------------------------------------\u001b[0m",
      "\u001b[0;31mTypeError\u001b[0m                                 Traceback (most recent call last)",
      "\u001b[0;32m<ipython-input-11-0f0f8bb69269>\u001b[0m in \u001b[0;36m<module>\u001b[0;34m()\u001b[0m\n\u001b[1;32m      4\u001b[0m \u001b[0;34m\u001b[0m\u001b[0m\n\u001b[1;32m      5\u001b[0m \u001b[0mrm_pss\u001b[0m \u001b[0;34m=\u001b[0m \u001b[0mReducedModel\u001b[0m\u001b[0;34m(\u001b[0m\u001b[0mpss\u001b[0m\u001b[0;34m)\u001b[0m\u001b[0;34m\u001b[0m\u001b[0m\n\u001b[0;32m----> 6\u001b[0;31m \u001b[0mdm_pss\u001b[0m \u001b[0;34m=\u001b[0m \u001b[0mDiscreteModel\u001b[0m\u001b[0;34m(\u001b[0m\u001b[0mpss\u001b[0m\u001b[0;34m,\u001b[0m\u001b[0mN_pss\u001b[0m\u001b[0;34m,\u001b[0m\u001b[0;36m0.5\u001b[0m\u001b[0;34m)\u001b[0m\u001b[0;34m\u001b[0m\u001b[0m\n\u001b[0m\u001b[1;32m      7\u001b[0m \u001b[0;34m\u001b[0m\u001b[0m\n\u001b[1;32m      8\u001b[0m \u001b[0mrm_pss\u001b[0m\u001b[0;34m.\u001b[0m\u001b[0mrun\u001b[0m\u001b[0;34m(\u001b[0m\u001b[0mt\u001b[0m\u001b[0;34m,\u001b[0m\u001b[0mdt\u001b[0m\u001b[0;34m)\u001b[0m\u001b[0;34m\u001b[0m\u001b[0m\n",
      "\u001b[0;31mTypeError\u001b[0m: __init__() takes exactly 3 arguments (4 given)"
     ]
    }
   ],
   "source": [
    "N_pss = 10000\n",
    "dt = 0.01\n",
    "t = 50.0\n",
    "\n",
    "rm_pss = ReducedModel(pss)\n",
    "dm_pss = DiscreteModel(pss,N_pss,0.5)\n",
    "\n",
    "rm_pss.run(t,dt)\n",
    "dm_pss.run(t,dt)"
   ]
  },
  {
   "cell_type": "markdown",
   "metadata": {},
   "source": [
    "\n",
    "<br/>Now, we check the distribution of $\\eta$ which should be of Cauchy form"
   ]
  },
  {
   "cell_type": "code",
   "execution_count": null,
   "metadata": {
    "collapsed": false
   },
   "outputs": [],
   "source": [
    "plt.hist(dm_pss.eta, bins=40, normed=True, color=\"gray\", histtype=\"step\", range=[-2., 2.])\n",
    "plt.title('$\\eta$')"
   ]
  },
  {
   "cell_type": "markdown",
   "metadata": {},
   "source": [
    "Now, we check the distribution of $k$ which should be of Cauchy form"
   ]
  },
  {
   "cell_type": "code",
   "execution_count": null,
   "metadata": {
    "collapsed": false
   },
   "outputs": [],
   "source": [
    "plt.hist(dm_pss.k, bins=40, normed=True, color=\"gray\", histtype=\"step\", range=[1., 3.])\n",
    "plt.title('$k$')"
   ]
  },
  {
   "cell_type": "code",
   "execution_count": null,
   "metadata": {
    "collapsed": false
   },
   "outputs": [],
   "source": [
    "print 'Paper Prediction: x = [-0.2815, -0.2415], y = [-0.0250, 0.0150]'\n",
    "print 'Final Discrete Coordinate: ({0},{1})'.format(dm_pss.x[-1], dm_pss.y[-1])\n",
    "print 'Final Reduced Coodinate: ({0},{1})'.format(rm_pss.x[-1], rm_pss.y[-1])\n",
    "plt.title(\"PSS \\n N ={0}, $\\eta_0$ = {1}, $\\Delta$ = {2}, $k_0$ = {3}, $\\Delta_k$ = {4}\".format(N_pss, pss.eta_center, pss.eta_spread, pss.k_center, pss.k_spread))\n",
    "plt.xlim([-1.0,1.0])\n",
    "plt.ylim([-1.0,1.0])\n",
    "plt.plot(rm_pss.x,rm_pss.y,color=\"gray\", label=\"Reduced\")\n",
    "plt.plot(dm_pss.x,dm_pss.y,color=\"red\", label=\"Discrete\")\n",
    "plt.legend()"
   ]
  },
  {
   "cell_type": "code",
   "execution_count": null,
   "metadata": {
    "collapsed": false
   },
   "outputs": [],
   "source": [
    "plt.title(\"Reduced PSS \\n N ={0}, $\\eta_0$ = {1}, $\\Delta$ = {2}, $k_0$ = {3}, $\\Delta_k$ = {4}\".format(N_pss, pss.eta_center, pss.eta_spread, pss.k_center, pss.k_spread))\n",
    "plt.plot(rm_pss.t,rm_pss.x,color=\"black\",label=\"Re[z]\")\n",
    "plt.plot(rm_pss.t,rm_pss.y,color=\"gray\",label=\"Im[z]\")\n",
    "plt.legend()"
   ]
  },
  {
   "cell_type": "code",
   "execution_count": null,
   "metadata": {
    "collapsed": false
   },
   "outputs": [],
   "source": [
    "plt.title(\"Discrete PSS \\n N ={0}, $\\eta_0$ = {1}, $\\Delta$ = {2}, $k_0$ = {3}, $\\Delta_k$ = {4}\".format(N_pss, pss.eta_center, pss.eta_spread, pss.k_center, pss.k_spread))\n",
    "plt.plot(dm_pss.t,dm_pss.x,color=\"darkred\",label=\"Re[z]\")\n",
    "plt.plot(dm_pss.t,dm_pss.y,color=\"red\",label=\"Im[z]\")\n",
    "plt.legend()"
   ]
  },
  {
   "cell_type": "markdown",
   "metadata": {},
   "source": [
    "<br/><br/><br/><br/><br/><br/><br/><br/><br/>\n",
    "# PSR: Partially Sychronous Rest"
   ]
  },
  {
   "cell_type": "code",
   "execution_count": null,
   "metadata": {
    "collapsed": true
   },
   "outputs": [],
   "source": [
    "N_psr = 10000\n",
    "dt = 0.01\n",
    "t = 5.0\n",
    "rm_psr = ReducedModel(psr)\n",
    "dm_psr = DiscreteModel(psr,N_psr,0.5)\n",
    "rm_psr.run(t,dt)\n",
    "dm_psr.run(t,dt)"
   ]
  },
  {
   "cell_type": "code",
   "execution_count": null,
   "metadata": {
    "collapsed": false
   },
   "outputs": [],
   "source": [
    "plt.hist(dm_psr.eta, bins=40, normed=True, color=\"gray\", histtype=\"step\", range=[-2., 2.])\n",
    "plt.title('$\\eta$')"
   ]
  },
  {
   "cell_type": "code",
   "execution_count": null,
   "metadata": {
    "collapsed": false
   },
   "outputs": [],
   "source": [
    "plt.hist(dm_pss.k, bins=40, normed=True, color=\"gray\", histtype=\"step\", range=[-2., 2.])\n",
    "plt.title('$k$')"
   ]
  },
  {
   "cell_type": "code",
   "execution_count": null,
   "metadata": {
    "collapsed": false
   },
   "outputs": [],
   "source": [
    "# Plots results\n",
    "print 'Paper Prediction: x = [-0.5360, -0.5300], y = [-0.8345, -0.8285]'\n",
    "print 'Final Discrete Coordinate: ({0},{1})'.format(dm_psr.x[-1],dm_psr.y[-1])\n",
    "print 'Final Reduced Coodinate: ({0},{1})'.format(rm_psr.x[-1],rm_psr.y[-1])\n",
    "plt.title(\"PSR \\n N ={0}, $\\eta_0$ = {1}, $\\Delta$ = {2}, $k_0$ = {3}, $\\Delta_k$ = {4}\".format(N_psr, psr.eta_center, psr.eta_spread, psr.k_center, psr.k_spread))\n",
    "plt.xlim([-1.0,1.0])\n",
    "plt.ylim([-1.0,1.0])\n",
    "plt.plot(rm_psr.x,rm_psr.y,color=\"gray\", label=\"Reduced\")\n",
    "plt.plot(dm_psr.x,dm_psr.y,color=\"red\", label=\"Discrete\")\n",
    "plt.legend()"
   ]
  },
  {
   "cell_type": "code",
   "execution_count": null,
   "metadata": {
    "collapsed": false
   },
   "outputs": [],
   "source": [
    "plt.title(\"Reduced PSR \\n N ={0}, $\\eta_0$ = {1}, $\\Delta$ = {2}, $k_0$ = {3}, $\\Delta_k$ = {4}\".format(N_psr, psr.eta_center, psr.eta_spread, psr.k_center, psr.k_spread))\n",
    "plt.plot(rm_psr.t,rm_psr.x,color=\"black\",label=\"Re[z]\")\n",
    "plt.plot(rm_psr.t,rm_psr.y,color=\"gray\",label=\"Im[z]\")\n",
    "plt.legend()"
   ]
  },
  {
   "cell_type": "code",
   "execution_count": null,
   "metadata": {
    "collapsed": false
   },
   "outputs": [],
   "source": [
    "plt.title(\"Discrete PSR \\n N ={0}, $\\eta_0$ = {1}, $\\Delta$ = {2}, $k_0$ = {3}, $\\Delta_k$ = {4}\".format(N_psr, psr.eta_center, psr.eta_spread, psr.k_center, psr.k_spread))\n",
    "plt.plot(rm_psr.t,rm_psr.x,color=\"darkred\",label=\"Re[z]\")\n",
    "plt.plot(rm_psr.t,rm_psr.y,color=\"red\",label=\"Im[z]\")\n",
    "plt.legend()"
   ]
  }
 ],
 "metadata": {
  "kernelspec": {
   "display_name": "Python 2",
   "language": "python",
   "name": "python2"
  },
  "language_info": {
   "codemirror_mode": {
    "name": "ipython",
    "version": 2
   },
   "file_extension": ".py",
   "mimetype": "text/x-python",
   "name": "python",
   "nbconvert_exporter": "python",
   "pygments_lexer": "ipython2",
   "version": "2.7.10"
  }
 },
 "nbformat": 4,
 "nbformat_minor": 0
}
